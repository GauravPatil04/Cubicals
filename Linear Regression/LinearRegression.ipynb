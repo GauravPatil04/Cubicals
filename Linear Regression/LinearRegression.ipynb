{
 "cells": [
  {
   "cell_type": "markdown",
   "metadata": {},
   "source": [
    "# step 1: **Data Preprocessing**"
   ]
  },
  {
   "cell_type": "markdown",
   "metadata": {},
   "source": [
    "**Encoding Categorical Values**\n"
   ]
  },
  {
   "cell_type": "code",
   "execution_count": 1,
   "metadata": {},
   "outputs": [],
   "source": [
    "import pandas as pd\n",
    "import matplotlib.pyplot as plt\n",
    "from sklearn.preprocessing import OneHotEncoder\n",
    "from sklearn.linear_model import LinearRegression\n",
    "from sklearn.model_selection import train_test_split\n",
    "from sklearn.metrics import mean_squared_error, r2_score\n",
    "\n",
    "# Load dataset\n",
    "df = pd.read_csv(\"car_price_dataset.csv\")\n",
    "\n",
    "# One-Hot Encoding for categorical columns\n",
    "encoder = OneHotEncoder(handle_unknown='ignore', sparse_output=False)\n",
    "encoded_data = encoder.fit_transform(df[['Brand', 'Model', 'Fuel_Type', 'Transmission']])\n",
    "encoded_df = pd.DataFrame(encoded_data, columns=encoder.get_feature_names_out())\n",
    "\n",
    "# Concatenate encoded features and drop original categorical columns\n",
    "df = pd.concat([df, encoded_df], axis=1).drop(['Brand', 'Fuel_Type', 'Model', 'Transmission'], axis=1)\n",
    "\n",
    "\n"
   ]
  },
  {
   "cell_type": "markdown",
   "metadata": {},
   "source": [
    "## Plotting"
   ]
  },
  {
   "cell_type": "code",
   "execution_count": 2,
   "metadata": {},
   "outputs": [],
   "source": [
    "\n",
    "# Scatter plot of each feature vs Price\n",
    "\n",
    "# for column in df.columns:\n",
    "#     if column != 'Price':  \n",
    "#         plt.figure(figsize=(10, 6))\n",
    "#         plt.scatter(df[column], df['Price'], alpha=0.5)\n",
    "#         plt.title(f'Scatter Plot of {column} vs Price')\n",
    "#         plt.xlabel(column)\n",
    "#         plt.ylabel('Price')\n",
    "#         plt.grid(True)\n",
    "#         plt.show()\n"
   ]
  },
  {
   "cell_type": "markdown",
   "metadata": {},
   "source": [
    "# Fitting the model with linear regression"
   ]
  },
  {
   "cell_type": "code",
   "execution_count": 5,
   "metadata": {},
   "outputs": [
    {
     "name": "stdout",
     "output_type": "stream",
     "text": [
      "Mean Squared Error: 4213.9224983852\n",
      "R-squared: 0.9995413573364617\n"
     ]
    }
   ],
   "source": [
    "\n",
    "# Train-Test Split\n",
    "X = df.drop('Price', axis=1)\n",
    "y = df['Price']\n",
    "X_train, X_test, y_train, y_test = train_test_split(X, y, test_size=0.2, random_state=42)\n",
    "\n",
    "# Train Linear Regression Model\n",
    "model = LinearRegression()\n",
    "model.fit(X_train, y_train)\n",
    "\n",
    "# Evaluate Model\n",
    "y_pred = model.predict(X_test)\n",
    "mse = mean_squared_error(y_test, y_pred)\n",
    "r2 = r2_score(y_test, y_pred)\n",
    "\n",
    "print(f\"Mean Squared Error: {mse}\")\n",
    "print(f\"R-squared: {r2}\")\n"
   ]
  },
  {
   "cell_type": "markdown",
   "metadata": {},
   "source": [
    "# Taking User Input"
   ]
  },
  {
   "cell_type": "code",
   "execution_count": null,
   "metadata": {},
   "outputs": [
    {
     "name": "stdout",
     "output_type": "stream",
     "text": [
      "\n",
      "Predicted Car Price: $9,753.64\n"
     ]
    }
   ],
   "source": [
    "\n",
    "# User Input\n",
    "brand = input(\"Enter Car Brand: \").lower()\n",
    "modell = input(\"Enter Car Model: \").lower()\n",
    "year = int(input(\"Enter Year: \"))\n",
    "engine_size = float(input(\"Enter Engine Size (cc): \"))\n",
    "fuel_type = input(\"Enter Fuel Type: \").lower()\n",
    "transmission = input(\"Enter Transmission Type: \").lower()\n",
    "mileage = float(input(\"Enter Mileage (km): \"))\n",
    "doors = int(input(\"Enter Number of Doors: \"))\n",
    "owner_count = int(input(\"Enter Owner Count: \"))\n",
    "\n",
    "#Preprocess User Input\n",
    "input_data = pd.DataFrame([[brand, modell, fuel_type, transmission, year, mileage, engine_size, doors, owner_count]], \n",
    "                          columns=['Brand', 'Model' , 'Fuel_Type', 'Transmission', 'Year', 'Mileage', 'Engine_Size', 'Doors', 'Owner_Count'])\n",
    "\n",
    "# Transform input using the same encoder\n",
    "encoded_input = encoder.transform(input_data[['Brand', 'Model', 'Fuel_Type', 'Transmission']])\n",
    "encoded_input_df = pd.DataFrame(encoded_input, columns=encoder.get_feature_names_out())\n",
    "\n",
    "# Merge with numerical features\n",
    "final_input = pd.concat([encoded_input_df, input_data[['Year', 'Mileage', 'Engine_Size', 'Doors', 'Owner_Count']]], axis=1)\n",
    "\n",
    "\n",
    "# --- Predict Price ---\n",
    "predicted_price = model.predict(final_input)\n",
    "print(f\"\\nPredicted Car Price: ${predicted_price[0]:,.2f}\")\n"
   ]
  },
  {
   "cell_type": "code",
   "execution_count": null,
   "metadata": {},
   "outputs": [],
   "source": []
  }
 ],
 "metadata": {
  "kernelspec": {
   "display_name": "Python 3",
   "language": "python",
   "name": "python3"
  },
  "language_info": {
   "codemirror_mode": {
    "name": "ipython",
    "version": 3
   },
   "file_extension": ".py",
   "mimetype": "text/x-python",
   "name": "python",
   "nbconvert_exporter": "python",
   "pygments_lexer": "ipython3",
   "version": "3.12.1"
  }
 },
 "nbformat": 4,
 "nbformat_minor": 2
}
