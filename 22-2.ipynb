{
 "cells": [
  {
   "cell_type": "markdown",
   "metadata": {},
   "source": [
    "# Date 22/02/2025\n",
    "**This is Day one of Machine lerning with python**"
   ]
  },
  {
   "cell_type": "markdown",
   "metadata": {},
   "source": [
    "## Let's start from basics of python"
   ]
  },
  {
   "cell_type": "code",
   "execution_count": 1,
   "metadata": {},
   "outputs": [
    {
     "name": "stdout",
     "output_type": "stream",
     "text": [
      "My name is Gaurav and Roll no. is 50\n",
      "Hello guys\n",
      "0123456789\n",
      "\n",
      "12345678910\n",
      "\n",
      "Yep!!, ValueError is working correctly\n",
      "For addition both variables should be of same type\n",
      "Using ZeroDivisionError\n",
      "Cannot divide by Zero\n"
     ]
    }
   ],
   "source": [
    "# Let's start from basics of python\n",
    "\n",
    "def main ():\n",
    "    Basics()\n",
    "    exception_handling()\n",
    "\n",
    "def Basics():\n",
    "    name = \"Gaurav\"\n",
    "    roll = 50\n",
    "    print(f\"My name is {name} and Roll no. is {roll}\")\n",
    "\n",
    "# conditionals \n",
    "    x = \"Yes\"\n",
    "    if x == \"Yes\":\n",
    "        print(\"Hello guys\")\n",
    "\n",
    "# loops\n",
    "    for _ in range(10):\n",
    "        print(_, end=\"\")\n",
    "    x=1\n",
    "    print(\"\\n\")\n",
    "    while (x <= 10):\n",
    "        print(x, end=\"\")\n",
    "        x +=1\n",
    "\n",
    "    print(\"\\n\")\n",
    "\n",
    "def exception_handling():\n",
    "    \n",
    "    try:\n",
    "        no = int(input(\"Enter a char to see the error\"))\n",
    "    except ValueError:\n",
    "        print(\"Yep!!, ValueError is working correctly\")\n",
    "\n",
    "    x = 10\n",
    "    y = \"Hello\"\n",
    "    try:\n",
    "        ans = x + y \n",
    "    except TypeError:\n",
    "        print(\"For addition both variables should be of same type\")\n",
    "\n",
    "    try:\n",
    "        print(\"Using ZeroDivisionError\")\n",
    "        ans = x/0\n",
    "    except ZeroDivisionError:\n",
    "        print(\"Cannot divide by Zero\")\n",
    "\n",
    "# Other Errors\n",
    "# 2. TypeError: Raised when an operation or function is applied to an object of inappropriate type.\n",
    "# 3. IndexError: Raised when a sequence subscript is out of range.\n",
    "# 4. KeyError: Raised when a dictionary key is not found.\n",
    "# 5. AttributeError: Raised when an attribute reference or assignment fails.\n",
    "# 6. ImportError: Raised when an import statement fails to find the module definition or when a from ... import fails to find a name that is to be imported.\n",
    "# 7. IOError: Raised when an I/O operation (such as a file operation) fails.\n",
    "# 8. ZeroDivisionError: Raised when the second argument of a division or modulo operation is zero.\n",
    "# 9. FileNotFoundError: Raised when a file or directory is requested but doesn't exist.\n",
    "# 10. RuntimeError: Raised when an error is detected that doesn't fall in any of the other categories.\n",
    "\n",
    "\n",
    "\n",
    "if __name__ == \"__main__\":\n",
    "    main()"
   ]
  },
  {
   "cell_type": "markdown",
   "metadata": {},
   "source": [
    "## Data Structures"
   ]
  },
  {
   "cell_type": "markdown",
   "metadata": {},
   "source": [
    "### Lists  []"
   ]
  },
  {
   "cell_type": "code",
   "execution_count": 36,
   "metadata": {},
   "outputs": [
    {
     "name": "stdout",
     "output_type": "stream",
     "text": [
      "\n",
      "printing Using Loop\n",
      "Gaurav Shoham Piyush Kallu \n",
      "Printing Using *(asterisk)\n",
      "Gaurav, Shoham, Piyush, Kallu\n",
      "Gaurav, byee, Shoham, Piyush, Kallu, hello\n"
     ]
    }
   ],
   "source": [
    "names = [\"Gaurav\", \"Shoham\", \"Piyush\", \"Kallu\"]\n",
    "print(\"\\nprinting Using Loop\")\n",
    "for name in names:\n",
    "    print(name, end =\" \")\n",
    "print(\"\\nPrinting Using *(asterisk)\")\n",
    "print(*names, sep= \", \")\n",
    "\n",
    "# adding elements\n",
    "names.append(\"hello\")\n",
    "names.insert(1, \"byee\")\n",
    "# Added hello and byee\n",
    "print(*names, sep= \", \")\n",
    "\n"
   ]
  },
  {
   "cell_type": "code",
   "execution_count": 37,
   "metadata": {},
   "outputs": [
    {
     "name": "stdout",
     "output_type": "stream",
     "text": [
      "\n",
      " Popped last element and Gaurav\n",
      ", byee, Shoham, Piyush, Kallu\n",
      "\n",
      "removed byee \n",
      ", Shoham, Piyush, Kallu\n"
     ]
    }
   ],
   "source": [
    "# popping element\n",
    "names.pop()\n",
    "names.pop(0)\n",
    "\n",
    "print(\"\\n Popped last element and Gaurav\\n\",*names, sep= \", \")\n",
    "\n",
    "names.remove(\"byee\")\n",
    "print(\"\\nremoved byee \\n\",*names, sep= \", \")\n",
    "\n"
   ]
  },
  {
   "cell_type": "code",
   "execution_count": 38,
   "metadata": {},
   "outputs": [
    {
     "name": "stdout",
     "output_type": "stream",
     "text": [
      "\n",
      "Sorting\n",
      "Kallu, Piyush, Shoham\n"
     ]
    }
   ],
   "source": [
    "# Sorting\n",
    "print(\"\\nSorting\")\n",
    "names.sort() # names.sort(reverse=True) for desending order\n",
    "print(*names, sep= \", \")\n"
   ]
  },
  {
   "cell_type": "code",
   "execution_count": 39,
   "metadata": {},
   "outputs": [
    {
     "name": "stdout",
     "output_type": "stream",
     "text": [
      "\n",
      "Reversed list is\n",
      "Shoham Piyush Kallu\n"
     ]
    }
   ],
   "source": [
    "# reversing the string (not sorting)\n",
    "print(\"\\nReversed list is\")\n",
    "names.reverse()\n",
    "print(*names)\n"
   ]
  },
  {
   "cell_type": "code",
   "execution_count": 40,
   "metadata": {},
   "outputs": [
    {
     "name": "stdout",
     "output_type": "stream",
     "text": [
      "Shoham Piyush Kallu Gaurav Sayali\n"
     ]
    }
   ],
   "source": [
    "# adding one list into other\n",
    "stud_name = [\"Gaurav\", \"Sayali\"]\n",
    "names.extend(stud_name)\n",
    "print(*names)"
   ]
  },
  {
   "cell_type": "code",
   "execution_count": 41,
   "metadata": {},
   "outputs": [
    {
     "name": "stdout",
     "output_type": "stream",
     "text": [
      "Piyush is at index: 1\n"
     ]
    }
   ],
   "source": [
    "# Finding Index\n",
    "print(\"Piyush is at index:\",names.index(\"Piyush\"))"
   ]
  },
  {
   "cell_type": "code",
   "execution_count": 42,
   "metadata": {},
   "outputs": [
    {
     "name": "stdout",
     "output_type": "stream",
     "text": [
      "1\n"
     ]
    }
   ],
   "source": [
    "# Counting specific element in list\n",
    "print(names.count(\"Piyush\"))"
   ]
  },
  {
   "cell_type": "code",
   "execution_count": 43,
   "metadata": {},
   "outputs": [
    {
     "name": "stdout",
     "output_type": "stream",
     "text": [
      "None\n"
     ]
    }
   ],
   "source": [
    "# Clearing the List\n",
    "print(names.clear())"
   ]
  },
  {
   "cell_type": "markdown",
   "metadata": {},
   "source": [
    "### Dictionary  {Key, Value}"
   ]
  },
  {
   "cell_type": "code",
   "execution_count": 9,
   "metadata": {},
   "outputs": [
    {
     "name": "stdout",
     "output_type": "stream",
     "text": [
      "{'Name': 'Gaurav', 'Roll No:': 50}\n"
     ]
    }
   ],
   "source": [
    "# get(): Returns the value for a specified key if the key is in the dictionary.\n",
    "dit = {\"Name\": \"Gaurav\", \"Roll No:\" : 50 }\n",
    "print(dit)\n"
   ]
  },
  {
   "cell_type": "code",
   "execution_count": 10,
   "metadata": {},
   "outputs": [
    {
     "name": "stdout",
     "output_type": "stream",
     "text": [
      "\n",
      "Printing using loops\n",
      "Name:Gaurav\n",
      "Roll No::50\n",
      "\n",
      "Printing Specific key, values\n",
      "keys are:dict_keys(['Name', 'Roll No:'])\n",
      "Values are:dict_values(['Gaurav', 50])\n"
     ]
    }
   ],
   "source": [
    "\n",
    "# printing using loops\n",
    "print(\"\\nPrinting using loops\")\n",
    "for key,value in dit.items():\n",
    "    print(f\"{key}:{value}\")\n",
    "\n",
    "print(\"\\nPrinting Specific key, values\")\n",
    "print(f\"keys are:{dit.keys()}\")\n",
    "print(f\"Values are:{dit.values()}\")\n"
   ]
  },
  {
   "cell_type": "code",
   "execution_count": 11,
   "metadata": {},
   "outputs": [
    {
     "name": "stdout",
     "output_type": "stream",
     "text": [
      "\n",
      "Printing Using list Comprension\n",
      "Name: Gaurav\n",
      "Roll No:: 50\n"
     ]
    }
   ],
   "source": [
    "\n",
    "# Using List Comprension\n",
    "print(\"\\nPrinting Using list Comprension\")\n",
    "print(\"\\n\".join([f\"{key}: {value}\" for key, value in dit.items()]))"
   ]
  },
  {
   "cell_type": "markdown",
   "metadata": {},
   "source": [
    "### Tupple ()"
   ]
  },
  {
   "cell_type": "markdown",
   "metadata": {},
   "source": [
    "**Tuples in Python are immutable, so they have fewer methods compared to lists. However, there are still some common methods and operations that you can perform with tuples. Here are the most common ones:**"
   ]
  },
  {
   "cell_type": "code",
   "execution_count": 14,
   "metadata": {},
   "outputs": [
    {
     "name": "stdout",
     "output_type": "stream",
     "text": [
      "1 2 3 gaurav\n"
     ]
    }
   ],
   "source": [
    "tp = (1,2,3,\"gaurav\")\n",
    "print(*tp)"
   ]
  },
  {
   "cell_type": "code",
   "execution_count": 18,
   "metadata": {},
   "outputs": [
    {
     "name": "stdout",
     "output_type": "stream",
     "text": [
      "gaurav\n"
     ]
    }
   ],
   "source": [
    "# Accessing elements via index\n",
    "print(tp[3])"
   ]
  },
  {
   "cell_type": "code",
   "execution_count": 24,
   "metadata": {},
   "outputs": [
    {
     "name": "stdout",
     "output_type": "stream",
     "text": [
      "Elements at index 1-3 are: (2, 3, 'gaurav')\n"
     ]
    }
   ],
   "source": [
    "# Slicing\n",
    "print(\"Elements at index 1-3 are:\",tp[1:4])"
   ]
  },
  {
   "cell_type": "code",
   "execution_count": null,
   "metadata": {},
   "outputs": [
    {
     "name": "stdout",
     "output_type": "stream",
     "text": [
      "Length is: 4\n"
     ]
    }
   ],
   "source": [
    "# Length of tupple\n",
    "print(\"Length is:\",len(tp))"
   ]
  },
  {
   "cell_type": "markdown",
   "metadata": {},
   "source": [
    "**# Membersip: Checking if an element is in a tuple.**"
   ]
  },
  {
   "cell_type": "code",
   "execution_count": 25,
   "metadata": {},
   "outputs": [
    {
     "name": "stdout",
     "output_type": "stream",
     "text": [
      "True\n"
     ]
    }
   ],
   "source": [
    "print(2 in tp)"
   ]
  },
  {
   "cell_type": "markdown",
   "metadata": {},
   "source": [
    "**Unpacking: Assigning elements of a tuple to variables.**"
   ]
  },
  {
   "cell_type": "code",
   "execution_count": 35,
   "metadata": {},
   "outputs": [
    {
     "name": "stdout",
     "output_type": "stream",
     "text": [
      "First name: gaurav , Surname: Patil\n"
     ]
    }
   ],
   "source": [
    "name = (\"gaurav\", \"Patil\")\n",
    "first, last = name\n",
    "print(\"First name:\", first, \", Surname:\",last)"
   ]
  },
  {
   "cell_type": "code",
   "execution_count": 28,
   "metadata": {},
   "outputs": [
    {
     "name": "stdout",
     "output_type": "stream",
     "text": [
      "1\n"
     ]
    }
   ],
   "source": [
    "#  Count\n",
    "print(tp.count(2))"
   ]
  },
  {
   "cell_type": "markdown",
   "metadata": {},
   "source": [
    "### Sets {}"
   ]
  },
  {
   "cell_type": "markdown",
   "metadata": {},
   "source": [
    "**Sets in Python are unordered collections of unique elements.**\n",
    "\n",
    "***Repetition or same elements are removed autometically***"
   ]
  },
  {
   "cell_type": "markdown",
   "metadata": {},
   "source": [
    "**Add element in set**"
   ]
  },
  {
   "cell_type": "code",
   "execution_count": 34,
   "metadata": {},
   "outputs": [
    {
     "name": "stdout",
     "output_type": "stream",
     "text": [
      "Gaurav 2 3 1\n",
      "1 2 3 4 Gaurav\n"
     ]
    }
   ],
   "source": [
    "set1 = {1,2,3, \"Gaurav\"}\n",
    "print(*set1)\n",
    "set1.add(4)\n",
    "print(*set1)"
   ]
  },
  {
   "cell_type": "markdown",
   "metadata": {},
   "source": [
    "**Remove using remove(), it gives error if element is not found**"
   ]
  },
  {
   "cell_type": "code",
   "execution_count": 35,
   "metadata": {},
   "outputs": [
    {
     "name": "stdout",
     "output_type": "stream",
     "text": [
      "1 3 4 Gaurav\n"
     ]
    }
   ],
   "source": [
    "set1.remove(2)\n",
    "print(*set1)"
   ]
  },
  {
   "cell_type": "markdown",
   "metadata": {},
   "source": [
    "**Remove using discard(), ***it wont raise an error if element is not found*****"
   ]
  },
  {
   "cell_type": "code",
   "execution_count": 36,
   "metadata": {},
   "outputs": [
    {
     "data": {
      "text/plain": [
       "{1, 3, 4, 'Gaurav'}"
      ]
     },
     "execution_count": 36,
     "metadata": {},
     "output_type": "execute_result"
    }
   ],
   "source": [
    "set1.discard(2)\n",
    "set1"
   ]
  },
  {
   "cell_type": "markdown",
   "metadata": {},
   "source": [
    "**popping an arbitary element**\n"
   ]
  },
  {
   "cell_type": "code",
   "execution_count": 37,
   "metadata": {},
   "outputs": [
    {
     "data": {
      "text/plain": [
       "{3, 4, 'Gaurav'}"
      ]
     },
     "execution_count": 37,
     "metadata": {},
     "output_type": "execute_result"
    }
   ],
   "source": [
    "set1.pop()\n",
    "set1"
   ]
  },
  {
   "cell_type": "markdown",
   "metadata": {},
   "source": [
    "**Union, intersection, difference, symmetric difference, is upperset, is disjoint set**\n",
    "\n",
    "***difference() returns a new set with elements in the set that are not in the others.***\n",
    "\n",
    "***super subset: set A is considered a superset of set B if all elements of B are also elements of A. ***\n",
    "\n",
    "***disjoint() : it returns True if no elements are common else False***"
   ]
  },
  {
   "cell_type": "code",
   "execution_count": null,
   "metadata": {},
   "outputs": [
    {
     "name": "stdout",
     "output_type": "stream",
     "text": [
      "union is {1, 2, 3, 4, 5}\n",
      "intersection is: {1, 2, 3}\n",
      "Difference : {4, 5}\n",
      "Symmetric Difference is: {4, 5}\n",
      "Is set2 subset of set3:  True\n",
      "Is set2 super subset of set3:  True\n",
      "Is set2 disjoint of set3:  False\n"
     ]
    }
   ],
   "source": [
    "set2 = {1,2,3}\n",
    "set3 = {1,2,3,4,5}\n",
    "print(\"union is\",set2.union(set3))\n",
    "\n",
    "print(\"intersection is:\",set2.intersection(set3))\n",
    " \n",
    "print(\"Difference :\",set3.difference(set2) )\n",
    "\n",
    "print(\"Symmetric Difference is:\",set2.symmetric_difference(set3) )\n",
    "\n",
    "print(\"Is set2 subset of set3: \",set2.issubset(set3))\n",
    "\n",
    "print(\"Is set2 super subset of set3: \",set2.issuperset(set3))\n",
    "\n",
    "print(\"Is set2 disjoint of set3: \",set2.isdisjoint(set3))\n"
   ]
  },
  {
   "cell_type": "code",
   "execution_count": null,
   "metadata": {},
   "outputs": [],
   "source": []
  }
 ],
 "metadata": {
  "kernelspec": {
   "display_name": "Python 3",
   "language": "python",
   "name": "python3"
  },
  "language_info": {
   "codemirror_mode": {
    "name": "ipython",
    "version": 3
   },
   "file_extension": ".py",
   "mimetype": "text/x-python",
   "name": "python",
   "nbconvert_exporter": "python",
   "pygments_lexer": "ipython3",
   "version": "3.12.1"
  }
 },
 "nbformat": 4,
 "nbformat_minor": 2
}
