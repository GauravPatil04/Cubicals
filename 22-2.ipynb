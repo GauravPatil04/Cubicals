{
 "cells": [
  {
   "cell_type": "markdown",
   "metadata": {},
   "source": [
    "# Date 22/02/2025\n",
    "**This is Day one of Machine lerning with python**"
   ]
  },
  {
   "cell_type": "markdown",
   "metadata": {},
   "source": [
    "## Let's start from basics of python"
   ]
  },
  {
   "cell_type": "code",
   "execution_count": null,
   "metadata": {},
   "outputs": [
    {
     "name": "stdout",
     "output_type": "stream",
     "text": [
      "My name is Gaurav and Roll no. is 50\n",
      "Hello guys\n",
      "0123456789\n",
      "\n",
      "12345678910\n",
      "\n",
      "Yep!!, ValueError is working correctly\n",
      "For addition both variables should be of same type\n",
      "Using ZeroDivisionError\n",
      "Cannot divide by Zero\n"
     ]
    }
   ],
   "source": [
    "# Let's start from basics of python\n",
    "\n",
    "def main ():\n",
    "    Basics()\n",
    "    exception_handling()\n",
    "\n",
    "def Basics():\n",
    "    name = \"Gaurav\"\n",
    "    roll = 50\n",
    "    print(f\"My name is {name} and Roll no. is {roll}\")\n",
    "\n",
    "# conditionals \n",
    "    x = \"Yes\"\n",
    "    if x == \"Yes\":\n",
    "        print(\"Hello guys\")\n",
    "\n",
    "# loops\n",
    "    for _ in range(10):\n",
    "        print(_, end=\"\")\n",
    "    x=1\n",
    "    print(\"\\n\")\n",
    "    while (x <= 10):\n",
    "        print(x, end=\"\")\n",
    "        x +=1\n",
    "\n",
    "    print(\"\\n\")\n",
    "\n",
    "def exception_handling():\n",
    "    \n",
    "    try:\n",
    "        no = int(input(\"Enter a char to see the error\"))\n",
    "    except ValueError:\n",
    "        print(\"Yep!!, ValueError is working correctly\")\n",
    "\n",
    "    x = 10\n",
    "    y = \"Hello\"\n",
    "    try:\n",
    "        ans = x + y \n",
    "    except TypeError:\n",
    "        print(\"For addition both variables should be of same type\")\n",
    "\n",
    "    try:\n",
    "        print(\"Using ZeroDivisionError\")\n",
    "        ans = x/0\n",
    "    except ZeroDivisionError:\n",
    "        print(\"Cannot divide by Zero\")\n",
    "\n",
    "# Other Errors\n",
    "# 2. TypeError: Raised when an operation or function is applied to an object of inappropriate type.\n",
    "# 3. IndexError: Raised when a sequence subscript is out of range.\n",
    "# 4. KeyError: Raised when a dictionary key is not found.\n",
    "# 5. AttributeError: Raised when an attribute reference or assignment fails.\n",
    "# 6. ImportError: Raised when an import statement fails to find the module definition or when a from ... import fails to find a name that is to be imported.\n",
    "# 7. IOError: Raised when an I/O operation (such as a file operation) fails.\n",
    "# 8. ZeroDivisionError: Raised when the second argument of a division or modulo operation is zero.\n",
    "# 9. FileNotFoundError: Raised when a file or directory is requested but doesn't exist.\n",
    "# 10. RuntimeError: Raised when an error is detected that doesn't fall in any of the other categories.\n",
    "\n",
    "\n",
    "\n",
    "if __name__ == \"__main__\":\n",
    "    main()"
   ]
  },
  {
   "cell_type": "markdown",
   "metadata": {},
   "source": [
    "## Data Structures"
   ]
  },
  {
   "cell_type": "code",
   "execution_count": 24,
   "metadata": {},
   "outputs": [
    {
     "name": "stdout",
     "output_type": "stream",
     "text": [
      "Gaurav Shoham Piyush Kallu Gaurav, Shoham, Piyush, Kallu\n"
     ]
    }
   ],
   "source": [
    "# Lists\n",
    "\n",
    "names = [\"Gaurav\", \"Shoham\", \"Piyush\", \"Kallu\"]\n",
    "\n",
    "for name in names:\n",
    "    print(name, end =\" \")\n",
    "\n",
    "print(*names, sep= \", \")"
   ]
  },
  {
   "cell_type": "code",
   "execution_count": 1,
   "metadata": {},
   "outputs": [
    {
     "name": "stdout",
     "output_type": "stream",
     "text": [
      "hello, im soham narvekar\n"
     ]
    }
   ],
   "source": [
    "print(\"hello, im soham narvekar\")"
   ]
  }
 ],
 "metadata": {
  "kernelspec": {
   "display_name": "Python 3",
   "language": "python",
   "name": "python3"
  },
  "language_info": {
   "codemirror_mode": {
    "name": "ipython",
    "version": 3
   },
   "file_extension": ".py",
   "mimetype": "text/x-python",
   "name": "python",
   "nbconvert_exporter": "python",
   "pygments_lexer": "ipython3",
   "version": "3.13.2"
  }
 },
 "nbformat": 4,
 "nbformat_minor": 2
}
